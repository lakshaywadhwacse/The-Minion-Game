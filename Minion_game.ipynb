{
 "cells": [
  {
   "cell_type": "code",
   "execution_count": 3,
   "metadata": {},
   "outputs": [
    {
     "name": "stdout",
     "output_type": "stream",
     "text": [
      "BANANA\n",
      "Stuart 12\n"
     ]
    }
   ],
   "source": [
    "def minion_game(s):\n",
    "    s=s.upper()\n",
    "    vowels = list('AIEOU')\n",
    "    vowel_list=[]\n",
    "    list_index_vowel=[]\n",
    "    #here find the index of vowel\n",
    "    for i,x in enumerate(s):\n",
    "        if x in vowels:\n",
    "            list_index_vowel.append(i)\n",
    "    #vowel_list_score\n",
    "    kevin_score=0\n",
    "    for i in range(len(list_index_vowel)):\n",
    "        kevin_score=kevin_score+(len(s)-list_index_vowel[i])\n",
    "    list_index_consonant=[]\n",
    "    for i,x in enumerate(s):\n",
    "        if not(x in vowels):\n",
    "            list_index_consonant.append(i)\n",
    "    stuart_score=0\n",
    "    for i in range(len(list_index_consonant)):\n",
    "        stuart_score=stuart_score+(len(s)-list_index_consonant[i])\n",
    "    if kevin_score>stuart_score:\n",
    "        print(\"Kevin\"+\" \"+str(kevin_score))\n",
    "    elif stuart_score>kevin_score:\n",
    "        print(\"Stuart\"+\" \"+str(stuart_score))\n",
    "    else:\n",
    "        print(\"Draw\")\n",
    "if __name__ == '__main__':\n",
    "    s = input()\n",
    "    minion_game(s)"
   ]
  }
 ],
 "metadata": {
  "kernelspec": {
   "display_name": "Python 3",
   "language": "python",
   "name": "python3"
  },
  "language_info": {
   "codemirror_mode": {
    "name": "ipython",
    "version": 3
   },
   "file_extension": ".py",
   "mimetype": "text/x-python",
   "name": "python",
   "nbconvert_exporter": "python",
   "pygments_lexer": "ipython3",
   "version": "3.6.3"
  }
 },
 "nbformat": 4,
 "nbformat_minor": 2
}
