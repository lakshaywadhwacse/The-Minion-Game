{
 "cells": [
  {
   "cell_type": "code",
   "execution_count": 3,
   "metadata": {},
   "outputs": [
    {
     "name": "stdout",
     "output_type": "stream",
     "text": [
      "BANANA\n",
      "stuart 12\n"
     ]
    }
   ],
   "source": [
    "#Kevin and Stuart want to play the 'The Minion Game'.\n",
    "#list of input str\n",
    "name=list(input().upper())\n",
    "# name of input str\n",
    "name1=\"\".join(name)\n",
    "\n",
    "vowels=\"AEIOU\"\n",
    "vowels_list=[each for each in name if each in vowels]\n",
    "#vowel list in name\n",
    "vowels_list=list(set(vowels_list))\n",
    "#To make a list of index of vowels\n",
    "index_vowel_list=[]\n",
    "#index_vowel=name.find(vowels_list[0])\n",
    "for i in range(len(vowels_list)):\n",
    "    index_vowel_list.append(name.index(vowels_list[i]))\n",
    "#To make a letter start with vowel\n",
    "list1=[]\n",
    "for i in index_vowel_list:\n",
    "    for j in range(i,len(name)):\n",
    "        list1.append(\"\".join(name[i:j+1]))\n",
    "#To make a list of number of times the character in list1 appears in name\n",
    "list3=[]\n",
    "for i in range(len(list1)):\n",
    "    list3.append(name1.count(list1[i]))        \n",
    "# To sum all the number in list3\n",
    "sum_vowels=sum(list3)        \n",
    "        \n",
    "# consonant list\n",
    "list2=[]\n",
    "consonant_list=[each for each in name if not(each in vowels)]\n",
    "#consonant list in name\n",
    "consonant_list=list(set(consonant_list))  \n",
    "#To make a list of index of consonant\n",
    "index_consonant_list=[]\n",
    "for i in range(len(consonant_list)):\n",
    "    index_consonant_list.append(name.index(consonant_list[i]))\n",
    "#To make a list of words start with consonant\n",
    "for i in index_consonant_list:\n",
    "    for j in range(i,len(name)):\n",
    "        list2.append(\"\".join(name[i:j+1]))\n",
    "#To make a list of number of times the character in list2 appears in name\n",
    "list4=[]\n",
    "for i in range(len(list2)):\n",
    "    list4.append(name1.count(list2[i]))        \n",
    "#To sum all the number in list4\n",
    "sum_consonant=sum(list4)       \n",
    "#To check who wins kevin or stuart\n",
    "# if stuart wins\n",
    "if sum_consonant>sum_vowels:\n",
    "    print(\"stuart\"+\" \"+ str(sum_consonant))\n",
    "# if kevin wins\n",
    "else:\n",
    "    print(\"kevin\"+\" \"+str(sum_vowels))\n",
    "        \n",
    "        \n",
    "        "
   ]
  }
 ],
 "metadata": {
  "kernelspec": {
   "display_name": "Python 3",
   "language": "python",
   "name": "python3"
  },
  "language_info": {
   "codemirror_mode": {
    "name": "ipython",
    "version": 3
   },
   "file_extension": ".py",
   "mimetype": "text/x-python",
   "name": "python",
   "nbconvert_exporter": "python",
   "pygments_lexer": "ipython3",
   "version": "3.6.3"
  }
 },
 "nbformat": 4,
 "nbformat_minor": 2
}
